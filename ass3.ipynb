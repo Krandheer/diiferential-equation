{
 "cells": [
  {
   "cell_type": "code",
   "execution_count": 2,
   "metadata": {},
   "outputs": [
    {
     "name": "stdout",
     "output_type": "stream",
     "text": [
      "solution from 2nd IVP: 7.108723958333333\n",
      "the value of alpha1 is: 1\n",
      "solution from 2nd IVP: 14.781249999999998\n",
      "the value of alpha1 is: 6.028069690265486\n",
      "solution from 2nd IVP: 13.900109755254425\n",
      "the value of alpha1 is: 6.167450221238939\n",
      "solution from 2nd IVP: 14.969510508849552\n",
      "the value of alpha1 is: 6.868265244439655\n"
     ]
    }
   ],
   "source": [
    "import numpy as np\n",
    "import math\n",
    "\n",
    "def linear_shooting():\n",
    "    y_real = 15\n",
    "    y_initial = 1.5\n",
    "    epsilon = 0.1\n",
    "    h = 0.25\n",
    "    x = np.linspace(1,2,4)\n",
    "    \n",
    "    y=np.zeros([10])\n",
    "    u=np.zeros([10])\n",
    "    z=np.zeros([10])\n",
    "    w=np.zeros([10])\n",
    "    max_iteration = 20\n",
    "    \n",
    "    result = 1\n",
    "\n",
    "    y[0] = y_initial  #value of y at 1; 1st IVP for alpha0\n",
    "    u[0] = y_initial  #value of u at 1 2nd IVP for alpha1\n",
    "    \n",
    "    alpha0 = 0\n",
    "    alpha1 = 1\n",
    "    \n",
    "    while(abs(result-y_real)>epsilon):\n",
    "       \n",
    "        z[0]=alpha0\n",
    "        w[0]=alpha1\n",
    "        \n",
    "        for i in range(1,5):\n",
    "            \n",
    "            y[i] = y[i-1] + h*(z[i-1])\n",
    "            z[i] = z[i-1] + h*(x[i-1]*z[i-1]-3*y[i-1]+11*x[i-1])\n",
    "\n",
    "            u[i] = u[i-1] + h*(w[i-1])\n",
    "            w[i] = w[i-1] + h*(x[i-1]*w[i-1]-3*y[i-1]+11*x[i-1])\n",
    "    \n",
    "        if(abs(y[4]-y_real)<epsilon):\n",
    "            result = y[4]\n",
    "            print(\"solution from first IVP: \", end = '')\n",
    "            print(result)\n",
    "            print(\"the value of alpha0 is: \", end = '')\n",
    "            print(alpha0)\n",
    "        else:\n",
    "            result = u[4]\n",
    "            print(\"solution from 2nd IVP: \", end = '')\n",
    "            print(result)\n",
    "            print(\"the value of alpha1 is: \", end = '')\n",
    "            print(alpha1)\n",
    "        \n",
    "        if(abs(result - y_real) > epsilon):\n",
    "\n",
    "            alpha2 = alpha1 - ((alpha1-alpha0)/(u[4]-y[4]))*(u[4]-y_real)\n",
    "#             print(\"alpha2 is\")\n",
    "#             print(alpha2)\n",
    "            alpha0 = alpha1\n",
    "            alpha1 = alpha2\n",
    "            \n",
    "linear_shooting()"
   ]
  },
  {
   "cell_type": "code",
   "execution_count": null,
   "metadata": {},
   "outputs": [],
   "source": []
  }
 ],
 "metadata": {
  "kernelspec": {
   "display_name": "Python 3",
   "language": "python",
   "name": "python3"
  },
  "language_info": {
   "codemirror_mode": {
    "name": "ipython",
    "version": 3
   },
   "file_extension": ".py",
   "mimetype": "text/x-python",
   "name": "python",
   "nbconvert_exporter": "python",
   "pygments_lexer": "ipython3",
   "version": "3.7.1"
  }
 },
 "nbformat": 4,
 "nbformat_minor": 2
}
